{
 "cells": [
  {
   "cell_type": "code",
   "id": "initial_id",
   "metadata": {
    "ExecuteTime": {
     "end_time": "2025-05-09T09:15:45.907851Z",
     "start_time": "2025-05-09T09:15:44.908944Z"
    }
   },
   "source": [
    "import pandas as pd\n",
    "import numpy as np\n",
    "import time\n",
    "import matplotlib.pyplot as plt\n",
    "from sklearn.preprocessing import LabelEncoder\n",
    "from sklearn.model_selection import train_test_split\n",
    "from sklearn.preprocessing import StandardScaler, OneHotEncoder\n",
    "from sklearn.compose import ColumnTransformer\n",
    "from sklearn.pipeline import Pipeline\n",
    "from sklearn.impute import SimpleImputer\n",
    "# from sklearn.linear_model import LinearRegression\n",
    "from sklearn.linear_model import LogisticRegression \n",
    "from sklearn.ensemble import RandomForestClassifier\n",
    "from sklearn.svm import SVC\n",
    "from sklearn.metrics import accuracy_score, classification_report, mean_squared_error, r2_score"
   ],
   "outputs": [],
   "execution_count": 1
  },
  {
   "cell_type": "code",
   "id": "b04503eb836c9679",
   "metadata": {
    "ExecuteTime": {
     "end_time": "2025-05-09T09:15:45.950255Z",
     "start_time": "2025-05-09T09:15:45.909652Z"
    }
   },
   "source": [
    "data = pd.read_csv(\"dataset.csv\")\n",
    "data.head()"
   ],
   "outputs": [
    {
     "data": {
      "text/plain": [
       "   Marital status  Application mode  Application order  Course  \\\n",
       "0               1                 8                  5       2   \n",
       "1               1                 6                  1      11   \n",
       "2               1                 1                  5       5   \n",
       "3               1                 8                  2      15   \n",
       "4               2                12                  1       3   \n",
       "\n",
       "   Daytime/evening attendance  Previous qualification  Nacionality  \\\n",
       "0                           1                       1            1   \n",
       "1                           1                       1            1   \n",
       "2                           1                       1            1   \n",
       "3                           1                       1            1   \n",
       "4                           0                       1            1   \n",
       "\n",
       "   Mother's qualification  Father's qualification  Mother's occupation  ...  \\\n",
       "0                      13                      10                    6  ...   \n",
       "1                       1                       3                    4  ...   \n",
       "2                      22                      27                   10  ...   \n",
       "3                      23                      27                    6  ...   \n",
       "4                      22                      28                   10  ...   \n",
       "\n",
       "   Curricular units 2nd sem (credited)  Curricular units 2nd sem (enrolled)  \\\n",
       "0                                    0                                    0   \n",
       "1                                    0                                    6   \n",
       "2                                    0                                    6   \n",
       "3                                    0                                    6   \n",
       "4                                    0                                    6   \n",
       "\n",
       "   Curricular units 2nd sem (evaluations)  \\\n",
       "0                                       0   \n",
       "1                                       6   \n",
       "2                                       0   \n",
       "3                                      10   \n",
       "4                                       6   \n",
       "\n",
       "   Curricular units 2nd sem (approved)  Curricular units 2nd sem (grade)  \\\n",
       "0                                    0                          0.000000   \n",
       "1                                    6                         13.666667   \n",
       "2                                    0                          0.000000   \n",
       "3                                    5                         12.400000   \n",
       "4                                    6                         13.000000   \n",
       "\n",
       "   Curricular units 2nd sem (without evaluations)  Unemployment rate  \\\n",
       "0                                               0               10.8   \n",
       "1                                               0               13.9   \n",
       "2                                               0               10.8   \n",
       "3                                               0                9.4   \n",
       "4                                               0               13.9   \n",
       "\n",
       "   Inflation rate   GDP    Target  \n",
       "0             1.4  1.74   Dropout  \n",
       "1            -0.3  0.79  Graduate  \n",
       "2             1.4  1.74   Dropout  \n",
       "3            -0.8 -3.12  Graduate  \n",
       "4            -0.3  0.79  Graduate  \n",
       "\n",
       "[5 rows x 35 columns]"
      ],
      "text/html": [
       "<div>\n",
       "<style scoped>\n",
       "    .dataframe tbody tr th:only-of-type {\n",
       "        vertical-align: middle;\n",
       "    }\n",
       "\n",
       "    .dataframe tbody tr th {\n",
       "        vertical-align: top;\n",
       "    }\n",
       "\n",
       "    .dataframe thead th {\n",
       "        text-align: right;\n",
       "    }\n",
       "</style>\n",
       "<table border=\"1\" class=\"dataframe\">\n",
       "  <thead>\n",
       "    <tr style=\"text-align: right;\">\n",
       "      <th></th>\n",
       "      <th>Marital status</th>\n",
       "      <th>Application mode</th>\n",
       "      <th>Application order</th>\n",
       "      <th>Course</th>\n",
       "      <th>Daytime/evening attendance</th>\n",
       "      <th>Previous qualification</th>\n",
       "      <th>Nacionality</th>\n",
       "      <th>Mother's qualification</th>\n",
       "      <th>Father's qualification</th>\n",
       "      <th>Mother's occupation</th>\n",
       "      <th>...</th>\n",
       "      <th>Curricular units 2nd sem (credited)</th>\n",
       "      <th>Curricular units 2nd sem (enrolled)</th>\n",
       "      <th>Curricular units 2nd sem (evaluations)</th>\n",
       "      <th>Curricular units 2nd sem (approved)</th>\n",
       "      <th>Curricular units 2nd sem (grade)</th>\n",
       "      <th>Curricular units 2nd sem (without evaluations)</th>\n",
       "      <th>Unemployment rate</th>\n",
       "      <th>Inflation rate</th>\n",
       "      <th>GDP</th>\n",
       "      <th>Target</th>\n",
       "    </tr>\n",
       "  </thead>\n",
       "  <tbody>\n",
       "    <tr>\n",
       "      <th>0</th>\n",
       "      <td>1</td>\n",
       "      <td>8</td>\n",
       "      <td>5</td>\n",
       "      <td>2</td>\n",
       "      <td>1</td>\n",
       "      <td>1</td>\n",
       "      <td>1</td>\n",
       "      <td>13</td>\n",
       "      <td>10</td>\n",
       "      <td>6</td>\n",
       "      <td>...</td>\n",
       "      <td>0</td>\n",
       "      <td>0</td>\n",
       "      <td>0</td>\n",
       "      <td>0</td>\n",
       "      <td>0.000000</td>\n",
       "      <td>0</td>\n",
       "      <td>10.8</td>\n",
       "      <td>1.4</td>\n",
       "      <td>1.74</td>\n",
       "      <td>Dropout</td>\n",
       "    </tr>\n",
       "    <tr>\n",
       "      <th>1</th>\n",
       "      <td>1</td>\n",
       "      <td>6</td>\n",
       "      <td>1</td>\n",
       "      <td>11</td>\n",
       "      <td>1</td>\n",
       "      <td>1</td>\n",
       "      <td>1</td>\n",
       "      <td>1</td>\n",
       "      <td>3</td>\n",
       "      <td>4</td>\n",
       "      <td>...</td>\n",
       "      <td>0</td>\n",
       "      <td>6</td>\n",
       "      <td>6</td>\n",
       "      <td>6</td>\n",
       "      <td>13.666667</td>\n",
       "      <td>0</td>\n",
       "      <td>13.9</td>\n",
       "      <td>-0.3</td>\n",
       "      <td>0.79</td>\n",
       "      <td>Graduate</td>\n",
       "    </tr>\n",
       "    <tr>\n",
       "      <th>2</th>\n",
       "      <td>1</td>\n",
       "      <td>1</td>\n",
       "      <td>5</td>\n",
       "      <td>5</td>\n",
       "      <td>1</td>\n",
       "      <td>1</td>\n",
       "      <td>1</td>\n",
       "      <td>22</td>\n",
       "      <td>27</td>\n",
       "      <td>10</td>\n",
       "      <td>...</td>\n",
       "      <td>0</td>\n",
       "      <td>6</td>\n",
       "      <td>0</td>\n",
       "      <td>0</td>\n",
       "      <td>0.000000</td>\n",
       "      <td>0</td>\n",
       "      <td>10.8</td>\n",
       "      <td>1.4</td>\n",
       "      <td>1.74</td>\n",
       "      <td>Dropout</td>\n",
       "    </tr>\n",
       "    <tr>\n",
       "      <th>3</th>\n",
       "      <td>1</td>\n",
       "      <td>8</td>\n",
       "      <td>2</td>\n",
       "      <td>15</td>\n",
       "      <td>1</td>\n",
       "      <td>1</td>\n",
       "      <td>1</td>\n",
       "      <td>23</td>\n",
       "      <td>27</td>\n",
       "      <td>6</td>\n",
       "      <td>...</td>\n",
       "      <td>0</td>\n",
       "      <td>6</td>\n",
       "      <td>10</td>\n",
       "      <td>5</td>\n",
       "      <td>12.400000</td>\n",
       "      <td>0</td>\n",
       "      <td>9.4</td>\n",
       "      <td>-0.8</td>\n",
       "      <td>-3.12</td>\n",
       "      <td>Graduate</td>\n",
       "    </tr>\n",
       "    <tr>\n",
       "      <th>4</th>\n",
       "      <td>2</td>\n",
       "      <td>12</td>\n",
       "      <td>1</td>\n",
       "      <td>3</td>\n",
       "      <td>0</td>\n",
       "      <td>1</td>\n",
       "      <td>1</td>\n",
       "      <td>22</td>\n",
       "      <td>28</td>\n",
       "      <td>10</td>\n",
       "      <td>...</td>\n",
       "      <td>0</td>\n",
       "      <td>6</td>\n",
       "      <td>6</td>\n",
       "      <td>6</td>\n",
       "      <td>13.000000</td>\n",
       "      <td>0</td>\n",
       "      <td>13.9</td>\n",
       "      <td>-0.3</td>\n",
       "      <td>0.79</td>\n",
       "      <td>Graduate</td>\n",
       "    </tr>\n",
       "  </tbody>\n",
       "</table>\n",
       "<p>5 rows × 35 columns</p>\n",
       "</div>"
      ]
     },
     "execution_count": 2,
     "metadata": {},
     "output_type": "execute_result"
    }
   ],
   "execution_count": 2
  },
  {
   "cell_type": "code",
   "id": "59cda08c5289574e",
   "metadata": {
    "ExecuteTime": {
     "end_time": "2025-05-09T09:15:45.960430Z",
     "start_time": "2025-05-09T09:15:45.952005Z"
    }
   },
   "source": "data.isna().sum()",
   "outputs": [
    {
     "data": {
      "text/plain": [
       "Marital status                                    0\n",
       "Application mode                                  0\n",
       "Application order                                 0\n",
       "Course                                            0\n",
       "Daytime/evening attendance                        0\n",
       "Previous qualification                            0\n",
       "Nacionality                                       0\n",
       "Mother's qualification                            0\n",
       "Father's qualification                            0\n",
       "Mother's occupation                               0\n",
       "Father's occupation                               0\n",
       "Displaced                                         0\n",
       "Educational special needs                         0\n",
       "Debtor                                            0\n",
       "Tuition fees up to date                           0\n",
       "Gender                                            0\n",
       "Scholarship holder                                0\n",
       "Age at enrollment                                 0\n",
       "International                                     0\n",
       "Curricular units 1st sem (credited)               0\n",
       "Curricular units 1st sem (enrolled)               0\n",
       "Curricular units 1st sem (evaluations)            0\n",
       "Curricular units 1st sem (approved)               0\n",
       "Curricular units 1st sem (grade)                  0\n",
       "Curricular units 1st sem (without evaluations)    0\n",
       "Curricular units 2nd sem (credited)               0\n",
       "Curricular units 2nd sem (enrolled)               0\n",
       "Curricular units 2nd sem (evaluations)            0\n",
       "Curricular units 2nd sem (approved)               0\n",
       "Curricular units 2nd sem (grade)                  0\n",
       "Curricular units 2nd sem (without evaluations)    0\n",
       "Unemployment rate                                 0\n",
       "Inflation rate                                    0\n",
       "GDP                                               0\n",
       "Target                                            0\n",
       "dtype: int64"
      ]
     },
     "execution_count": 3,
     "metadata": {},
     "output_type": "execute_result"
    }
   ],
   "execution_count": 3
  },
  {
   "metadata": {
    "ExecuteTime": {
     "end_time": "2025-05-09T09:15:45.973697Z",
     "start_time": "2025-05-09T09:15:45.960430Z"
    }
   },
   "cell_type": "code",
   "source": "data.duplicated().sum()",
   "id": "cc1adf7e443fccce",
   "outputs": [
    {
     "data": {
      "text/plain": [
       "np.int64(0)"
      ]
     },
     "execution_count": 4,
     "metadata": {},
     "output_type": "execute_result"
    }
   ],
   "execution_count": 4
  },
  {
   "metadata": {
    "ExecuteTime": {
     "end_time": "2025-05-09T09:15:45.986782Z",
     "start_time": "2025-05-09T09:15:45.974784Z"
    }
   },
   "cell_type": "code",
   "source": "data.info()",
   "id": "50070848167bb6b2",
   "outputs": [
    {
     "name": "stdout",
     "output_type": "stream",
     "text": [
      "<class 'pandas.core.frame.DataFrame'>\n",
      "RangeIndex: 4424 entries, 0 to 4423\n",
      "Data columns (total 35 columns):\n",
      " #   Column                                          Non-Null Count  Dtype  \n",
      "---  ------                                          --------------  -----  \n",
      " 0   Marital status                                  4424 non-null   int64  \n",
      " 1   Application mode                                4424 non-null   int64  \n",
      " 2   Application order                               4424 non-null   int64  \n",
      " 3   Course                                          4424 non-null   int64  \n",
      " 4   Daytime/evening attendance                      4424 non-null   int64  \n",
      " 5   Previous qualification                          4424 non-null   int64  \n",
      " 6   Nacionality                                     4424 non-null   int64  \n",
      " 7   Mother's qualification                          4424 non-null   int64  \n",
      " 8   Father's qualification                          4424 non-null   int64  \n",
      " 9   Mother's occupation                             4424 non-null   int64  \n",
      " 10  Father's occupation                             4424 non-null   int64  \n",
      " 11  Displaced                                       4424 non-null   int64  \n",
      " 12  Educational special needs                       4424 non-null   int64  \n",
      " 13  Debtor                                          4424 non-null   int64  \n",
      " 14  Tuition fees up to date                         4424 non-null   int64  \n",
      " 15  Gender                                          4424 non-null   int64  \n",
      " 16  Scholarship holder                              4424 non-null   int64  \n",
      " 17  Age at enrollment                               4424 non-null   int64  \n",
      " 18  International                                   4424 non-null   int64  \n",
      " 19  Curricular units 1st sem (credited)             4424 non-null   int64  \n",
      " 20  Curricular units 1st sem (enrolled)             4424 non-null   int64  \n",
      " 21  Curricular units 1st sem (evaluations)          4424 non-null   int64  \n",
      " 22  Curricular units 1st sem (approved)             4424 non-null   int64  \n",
      " 23  Curricular units 1st sem (grade)                4424 non-null   float64\n",
      " 24  Curricular units 1st sem (without evaluations)  4424 non-null   int64  \n",
      " 25  Curricular units 2nd sem (credited)             4424 non-null   int64  \n",
      " 26  Curricular units 2nd sem (enrolled)             4424 non-null   int64  \n",
      " 27  Curricular units 2nd sem (evaluations)          4424 non-null   int64  \n",
      " 28  Curricular units 2nd sem (approved)             4424 non-null   int64  \n",
      " 29  Curricular units 2nd sem (grade)                4424 non-null   float64\n",
      " 30  Curricular units 2nd sem (without evaluations)  4424 non-null   int64  \n",
      " 31  Unemployment rate                               4424 non-null   float64\n",
      " 32  Inflation rate                                  4424 non-null   float64\n",
      " 33  GDP                                             4424 non-null   float64\n",
      " 34  Target                                          4424 non-null   object \n",
      "dtypes: float64(5), int64(29), object(1)\n",
      "memory usage: 1.2+ MB\n"
     ]
    }
   ],
   "execution_count": 5
  },
  {
   "metadata": {
    "ExecuteTime": {
     "end_time": "2025-05-09T09:15:45.993153Z",
     "start_time": "2025-05-09T09:15:45.986782Z"
    }
   },
   "cell_type": "code",
   "source": "data=data[data.Target!='Enrolled']",
   "id": "2fcd741d25b273",
   "outputs": [],
   "execution_count": 6
  },
  {
   "metadata": {
    "ExecuteTime": {
     "end_time": "2025-05-09T09:15:46.002474Z",
     "start_time": "2025-05-09T09:15:45.995317Z"
    }
   },
   "cell_type": "code",
   "source": "data['Target']",
   "id": "d327414fe6ce346",
   "outputs": [
    {
     "data": {
      "text/plain": [
       "0        Dropout\n",
       "1       Graduate\n",
       "2        Dropout\n",
       "3       Graduate\n",
       "4       Graduate\n",
       "          ...   \n",
       "4419    Graduate\n",
       "4420     Dropout\n",
       "4421     Dropout\n",
       "4422    Graduate\n",
       "4423    Graduate\n",
       "Name: Target, Length: 3630, dtype: object"
      ]
     },
     "execution_count": 7,
     "metadata": {},
     "output_type": "execute_result"
    }
   ],
   "execution_count": 7
  },
  {
   "metadata": {
    "ExecuteTime": {
     "end_time": "2025-05-09T09:15:46.007928Z",
     "start_time": "2025-05-09T09:15:46.002474Z"
    }
   },
   "cell_type": "code",
   "source": [
    "# ¶Features from sem 1 and 2 have similar correlations (without Curricular units 1st sem (without evaluations)) so can be removed to reduce redundancy and simplifying dataset. \n",
    "# Also International and Nacionality are not great predictors for target.\n",
    "# From linear regression we find that Unemployment rate, Father's qualification, Inflation rate, Educational special needs dont really have any correlations with target."
   ],
   "id": "bdab15476e18e1dd",
   "outputs": [],
   "execution_count": 8
  },
  {
   "metadata": {
    "ExecuteTime": {
     "end_time": "2025-05-09T09:15:46.014912Z",
     "start_time": "2025-05-09T09:15:46.009364Z"
    }
   },
   "cell_type": "code",
   "source": "data.drop(['International', 'Nacionality', 'Curricular units 1st sem (credited)', 'Curricular units 1st sem (enrolled)','Curricular units 1st sem (approved)','Curricular units 1st sem (grade)', 'Curricular units 1st sem (evaluations)',\"Father's qualification\",'Unemployment rate','Inflation rate', 'Educational special needs'],axis=1,inplace=True)",
   "id": "3232d7bdee400aa4",
   "outputs": [],
   "execution_count": 9
  },
  {
   "metadata": {
    "ExecuteTime": {
     "end_time": "2025-05-09T09:15:46.022596Z",
     "start_time": "2025-05-09T09:15:46.015553Z"
    }
   },
   "cell_type": "code",
   "source": [
    "encoder = LabelEncoder()\n",
    "data['Target'] = encoder.fit_transform(data['Target'])"
   ],
   "id": "56272357a9eb2dfa",
   "outputs": [],
   "execution_count": 10
  },
  {
   "metadata": {
    "ExecuteTime": {
     "end_time": "2025-05-09T09:15:46.039170Z",
     "start_time": "2025-05-09T09:15:46.025917Z"
    }
   },
   "cell_type": "code",
   "source": [
    "martial_status_map = {\n",
    "    1: 'Single',\n",
    "    2: 'Married',\n",
    "    3: 'Widower',\n",
    "    4: 'Divorced',\n",
    "    5: 'Facto Union',\n",
    "    6: 'Legally Separated'\n",
    "}\n",
    "qualification_map = {\n",
    "    1: '1st phase - general contingent',\n",
    "    2: 'Ordinance No. 612/93',\n",
    "    3: '1st phase - special contingent (Azores Island)',\n",
    "    4: 'Holders of other higher courses',\n",
    "    5: 'Ordinance No. 854-B/99',\n",
    "    6: 'International student (bachelor)',\n",
    "    7: '1st phase - special contingent (Madeira Island)',\n",
    "    8: '2nd phase - general contingent',\n",
    "    9: '3rd phase - general contingent',\n",
    "    10: 'Ordinance No. 533-A/99, item b2) (Different Plan)',\n",
    "    11: 'Ordinance No. 533-A/99, item b3 (Other Institution)',\n",
    "    12: 'Over 23 years old',\n",
    "    13: 'Transfer',\n",
    "    14: 'Change of course',\n",
    "    15: 'Technological specialization diploma holders',\n",
    "    16: 'Change of institution/course',\n",
    "    17: 'Short cycle diploma holders',\n",
    "    18: 'Change of institution/course (International)'\n",
    "}\n",
    "course_map = {\n",
    "    1: 'Biofuel Production Technologies',\n",
    "    2: 'Animation and Multimedia Design',\n",
    "    3: 'Social Service (evening attendance)',\n",
    "    4: 'Agronomy',\n",
    "    5: 'Communication Design',\n",
    "    6: 'Veterinary Nursing',\n",
    "    7: 'Informatics Engineering',\n",
    "    8: 'Equinculture',\n",
    "    9: 'Management',\n",
    "    10: 'Social Service',\n",
    "    11: 'Tourism',\n",
    "    12: 'Nursing',\n",
    "    13: 'Oral Hygiene',\n",
    "    14: 'Advertising and Marketing Management',\n",
    "    15: 'Journalism and Communication',\n",
    "    16: 'Basic Education',\n",
    "    17: 'Management (evening attendance)'\n",
    "}\n",
    "attendance_map = {\n",
    "    1: 'daytime',\n",
    "    0: 'evening'\n",
    "}\n",
    "previous_qual_map = {\n",
    "    1: 'Secondary education',\n",
    "    2: \"Bachelor's degree\",\n",
    "    3: 'Higher education - degree',\n",
    "    4: 'Higher education - master\\'s',\n",
    "    5: 'Higher education - doctorate',\n",
    "    6: 'Frequency of higher education',\n",
    "    7: '12th year of schooling - not completed',\n",
    "    8: '11th year of schooling - not completed',\n",
    "    9: 'Other - 11th year of schooling',\n",
    "    10: '10th year of schooling',\n",
    "    11: '10th year of schooling - not completed',\n",
    "    12: 'Basic education 3rd cycle (9th/10th/11th year) or equiv.',\n",
    "    13: 'Basic education 2nd cycle (6th/7th/8th year) or equiv.',\n",
    "    14: 'Technological specialization course',\n",
    "    15: 'Higher education - degree (1st cycle)',\n",
    "    16: 'Professional higher technical course',\n",
    "    17: 'Higher education - master (2nd cycle)'\n",
    "}\n",
    "mothers_qual_map = {\n",
    "    1: 'Secondary Education - 12th Year of Schooling or Eq.',\n",
    "    2: 'Higher Education - Bachelor\\'s Degree',\n",
    "    3: 'Higher Education - Degree',\n",
    "    4: 'Higher Education - Master\\'s',\n",
    "    5: 'Higher Education - Doctorate',\n",
    "    6: 'Frequency of Higher Education',\n",
    "    7: '12th Year of Schooling - Not Completed',\n",
    "    8: '11th Year of Schooling - Not Completed',\n",
    "    9: '7th Year (Old)',\n",
    "    10: 'Other - 11th Year of Schooling',\n",
    "    11: '10th Year of Schooling',\n",
    "    12: 'General commerce course',\n",
    "    13: 'Basic Education 3rd Cycle (9th/10th/11th Year) or Equiv.',\n",
    "    14: 'Technical-professional course',\n",
    "    15: '7th year of schooling',\n",
    "    16: '2nd cycle of the general high school course',\n",
    "    17: '9th Year of Schooling - Not Completed',\n",
    "    18: '8th year of schooling',\n",
    "    19: 'Unknown',\n",
    "    20: 'Can\\'t read or write',\n",
    "    21: 'Can read without having a 4th year of schooling',\n",
    "    22: 'Basic education 1st cycle (4th/5th year) or equiv.',\n",
    "    23: 'Basic Education 2nd Cycle (6th/7th/8th Year) or Equiv.',\n",
    "    24: 'Technological specialization course',\n",
    "    25: 'Higher education - degree (1st cycle)',\n",
    "    26: 'Specialized higher studies course',\n",
    "    27: 'Professional higher technical course',\n",
    "    28: 'Higher Education - Master (2nd cycle)',\n",
    "    29: 'Higher Education - Doctorate (3rd cycle)'\n",
    "}\n",
    "mothers_occupation_map = {\n",
    "    1: 'Student',\n",
    "    2: 'Representatives of the Legislative Power and Executive Bodies, Directors, Directors and Executive Managers',\n",
    "    3: 'Specialists in Intellectual and Scientific Activities',\n",
    "    4: 'Intermediate Level Technicians and Professions',\n",
    "    5: 'Administrative staff',\n",
    "    6: 'Personal Services, Security and Safety Workers and Sellers',\n",
    "    7: 'Farmers and Skilled Workers in Agriculture, Fisheries and Forestry',\n",
    "    8: 'Skilled Workers in Industry, Construction and Craftsmen',\n",
    "    9: 'Installation and Machine Operators and Assembly Workers',\n",
    "    10: 'Unskilled Workers',\n",
    "    11: 'Armed Forces Professions',\n",
    "    12: 'Other Situation',\n",
    "    13: 'Health professionals',\n",
    "    14: 'Teachers',\n",
    "    15: 'Specialists in information and communication technologies (ICT)',\n",
    "    16: 'Intermediate level science and engineering technicians and professions',\n",
    "    17: 'Technicians and professionals, of intermediate level of health',\n",
    "    18: 'Intermediate level technicians from legal, social, sports, cultural and similar services',\n",
    "    19: 'Office workers, secretaries in general and data processing operators',\n",
    "    20: 'Data, accounting, statistical, financial services and registry-related operators',\n",
    "    21: 'Other administrative support staff',\n",
    "    22: 'Personal service workers',\n",
    "    23: 'Sellers',\n",
    "    24: 'Personal care workers and the like',\n",
    "    25: 'Skilled construction workers and the like, except electricians',\n",
    "    26: 'Skilled workers in printing, precision instrument manufacturing, jewelers, artisans and the like',\n",
    "    27: 'Workers in food processing, woodworking, clothing and other industries and crafts',\n",
    "    28: 'Cleaning workers',\n",
    "    29: 'Unskilled workers in agriculture, animal production, fisheries and forestry',\n",
    "    30: 'Unskilled workers in extractive industry, construction, manufacturing and transport',\n",
    "    31: 'Meal preparation assistants',\n",
    "    32: 'Nth'\n",
    "}\n",
    "fathers_occupation_map = {\n",
    "    1: 'Representatives of the Legislative Power and Executive Bodies, Directors, Directors and Executive Managers',\n",
    "    2: 'Specialists in Intellectual and Scientific Activities',\n",
    "    3: 'Intermediate Level Technicians and Professions',\n",
    "    4: 'Administrative staff',\n",
    "    5: 'Personal Services, Security and Safety Workers and Sellers',\n",
    "    6: 'Farmers and Skilled Workers in Agriculture, Fisheries and Forestry',\n",
    "    7: 'Skilled Workers in Industry, Construction and Craftsmen',\n",
    "    8: 'Installation and Machine Operators and Assembly Workers',\n",
    "    9: 'Unskilled Workers',\n",
    "    10: 'Armed Forces Professions',\n",
    "    11: 'Directors of administrative and commercial services',\n",
    "    12: 'Hotel, catering, trade and other services directors',\n",
    "    13: 'Armed Forces Sergeants',\n",
    "    14: 'Protection and security services personnel',\n",
    "    15: 'Specialists in finance, accounting, administrative organization, public and commercial relations',\n",
    "    16: 'Intermediate level science and engineering technicians and professions',\n",
    "    17: 'Technicians and professionals, of intermediate level of health',\n",
    "    18: 'Intermediate level technicians from legal, social, sports, cultural and similar services',\n",
    "    20: 'Farmers, livestock keepers, fishermen, hunters and gatherers, subsistence',\n",
    "    21: 'Skilled construction workers and the like, except electricians',\n",
    "    22: 'Skilled workers in metallurgy, metalworking and similar',\n",
    "    23: 'Skilled workers in electricity and electronics',\n",
    "    26: 'Workers in food processing, woodworking, clothing and other industries and crafts',\n",
    "    27: 'Fixed plant and machine operators',\n",
    "    28: 'Assembly workers',\n",
    "    29: 'Vehicle drivers and mobile equipment operators',\n",
    "    30: 'Unskilled workers in agriculture, animal production, fisheries and forestry',\n",
    "    31: 'Unskilled workers in extractive industry, construction, manufacturing and transport',\n",
    "    32: 'Meal preparation assistants',\n",
    "    33: 'Street vendors (except food) and street service providers',\n",
    "    35: 'Market-oriented farmers and skilled agricultural and animal production workers',\n",
    "    36: 'Armed Forces Officers',\n",
    "    37: 'Other Armed Forces personnel',\n",
    "    38: 'Health professionals',\n",
    "    39: 'Teachers',\n",
    "    40: 'Specialists in the physical sciences, mathematics, engineering and related techniques',\n",
    "    41: 'Data, accounting, statistical, financial services and registry-related operators',\n",
    "    42: 'Other administrative support staff',\n",
    "    43: 'Office workers, secretaries in general and data processing operators',\n",
    "    44: 'Personal care workers and the like',\n",
    "    45: 'Personal service workers',\n",
    "    46: 'Sellers'\n",
    "}"
   ],
   "id": "91fbfe4c7004c6a3",
   "outputs": [],
   "execution_count": 11
  },
  {
   "metadata": {
    "ExecuteTime": {
     "end_time": "2025-05-09T09:15:46.077146Z",
     "start_time": "2025-05-09T09:15:46.039170Z"
    }
   },
   "cell_type": "code",
   "source": [
    "data['Marital status'] = data['Marital status'].replace(martial_status_map).astype(\"category\")\n",
    "data['Application mode'] = data['Application mode'].replace(qualification_map).astype(\"category\")\n",
    "data['Course'] = data['Course'].replace(course_map).astype(\"category\")\n",
    "data['Daytime/evening attendance'] = data['Daytime/evening attendance'].replace(attendance_map).astype(\"category\")\n",
    "data['Previous qualification'] = data['Previous qualification'].replace(previous_qual_map).astype(\"category\")\n",
    "data['Mother\\'s qualification'] = data['Mother\\'s qualification'].replace(mothers_qual_map).astype(\"category\")\n",
    "data['Mother\\'s occupation'] = data['Mother\\'s occupation'].replace(mothers_occupation_map).astype(\"category\")\n",
    "data['Father\\'s occupation'] = data['Father\\'s occupation'].replace(fathers_occupation_map).astype(\"category\")\n",
    "data['Debtor'] = data['Debtor'].replace({1: 'yes', 0: 'no'}).astype(\"category\")\n",
    "data['Tuition fees up to date'] = data['Tuition fees up to date'].replace({1: 'yes', 0: 'no'}).astype(\"category\")\n",
    "data['Gender'] = data['Gender'].replace({1: 'male', 0: 'female'}).astype(\"category\")\n",
    "data['Scholarship holder'] = data['Scholarship holder'].replace({1: 'yes', 0: 'no'}).astype(\"category\")"
   ],
   "id": "a15d540eead4243a",
   "outputs": [],
   "execution_count": 12
  },
  {
   "metadata": {
    "ExecuteTime": {
     "end_time": "2025-05-09T09:15:46.090322Z",
     "start_time": "2025-05-09T09:15:46.078152Z"
    }
   },
   "cell_type": "code",
   "source": "data.info()",
   "id": "8a24ad6c63fc4a0a",
   "outputs": [
    {
     "name": "stdout",
     "output_type": "stream",
     "text": [
      "<class 'pandas.core.frame.DataFrame'>\n",
      "Index: 3630 entries, 0 to 4423\n",
      "Data columns (total 24 columns):\n",
      " #   Column                                          Non-Null Count  Dtype   \n",
      "---  ------                                          --------------  -----   \n",
      " 0   Marital status                                  3630 non-null   category\n",
      " 1   Application mode                                3630 non-null   category\n",
      " 2   Application order                               3630 non-null   int64   \n",
      " 3   Course                                          3630 non-null   category\n",
      " 4   Daytime/evening attendance                      3630 non-null   category\n",
      " 5   Previous qualification                          3630 non-null   category\n",
      " 6   Mother's qualification                          3630 non-null   category\n",
      " 7   Mother's occupation                             3630 non-null   category\n",
      " 8   Father's occupation                             3630 non-null   category\n",
      " 9   Displaced                                       3630 non-null   int64   \n",
      " 10  Debtor                                          3630 non-null   category\n",
      " 11  Tuition fees up to date                         3630 non-null   category\n",
      " 12  Gender                                          3630 non-null   category\n",
      " 13  Scholarship holder                              3630 non-null   category\n",
      " 14  Age at enrollment                               3630 non-null   int64   \n",
      " 15  Curricular units 1st sem (without evaluations)  3630 non-null   int64   \n",
      " 16  Curricular units 2nd sem (credited)             3630 non-null   int64   \n",
      " 17  Curricular units 2nd sem (enrolled)             3630 non-null   int64   \n",
      " 18  Curricular units 2nd sem (evaluations)          3630 non-null   int64   \n",
      " 19  Curricular units 2nd sem (approved)             3630 non-null   int64   \n",
      " 20  Curricular units 2nd sem (grade)                3630 non-null   float64 \n",
      " 21  Curricular units 2nd sem (without evaluations)  3630 non-null   int64   \n",
      " 22  GDP                                             3630 non-null   float64 \n",
      " 23  Target                                          3630 non-null   int64   \n",
      "dtypes: category(12), float64(2), int64(10)\n",
      "memory usage: 418.0 KB\n"
     ]
    }
   ],
   "execution_count": 13
  },
  {
   "metadata": {
    "ExecuteTime": {
     "end_time": "2025-05-09T09:15:46.098218Z",
     "start_time": "2025-05-09T09:15:46.090322Z"
    }
   },
   "cell_type": "code",
   "source": [
    "# Preparing data\n",
    "X = data.drop('Target', axis=1)\n",
    "y = data['Target']\n",
    "# X = data.drop(columns=['Age at enrollment'])\n",
    "# y = data['Age at enrollment']"
   ],
   "id": "1150cec0327a685e",
   "outputs": [],
   "execution_count": 14
  },
  {
   "metadata": {
    "ExecuteTime": {
     "end_time": "2025-05-09T09:15:46.109102Z",
     "start_time": "2025-05-09T09:15:46.098218Z"
    }
   },
   "cell_type": "code",
   "source": [
    "# Categorization of the num and cat\n",
    "numerical_cols = X.select_dtypes(include=['int64', 'float64']).columns\n",
    "categorical_cols = X.select_dtypes(include=['object', 'category']).columns"
   ],
   "id": "86bf07515277c981",
   "outputs": [],
   "execution_count": 15
  },
  {
   "metadata": {
    "ExecuteTime": {
     "end_time": "2025-05-09T09:15:46.115022Z",
     "start_time": "2025-05-09T09:15:46.109102Z"
    }
   },
   "cell_type": "code",
   "source": [
    "numeric_transformer = Pipeline(steps=[\n",
    "    ('imputer', SimpleImputer(strategy='mean')),\n",
    "    ('scaler', StandardScaler())\n",
    "])"
   ],
   "id": "184920e1b7809fc1",
   "outputs": [],
   "execution_count": 16
  },
  {
   "metadata": {
    "ExecuteTime": {
     "end_time": "2025-05-09T09:15:46.121276Z",
     "start_time": "2025-05-09T09:15:46.115022Z"
    }
   },
   "cell_type": "code",
   "source": [
    "categorical_transformer = Pipeline(steps=[\n",
    "    ('imputer', SimpleImputer(strategy='most_frequent')),\n",
    "    ('onehot', OneHotEncoder(handle_unknown='ignore')) # Sets binary collums for each cat variable\n",
    "])"
   ],
   "id": "6c39ef1aabb67abd",
   "outputs": [],
   "execution_count": 17
  },
  {
   "metadata": {
    "ExecuteTime": {
     "end_time": "2025-05-09T09:15:46.126314Z",
     "start_time": "2025-05-09T09:15:46.121276Z"
    }
   },
   "cell_type": "code",
   "source": [
    "preprocessor = ColumnTransformer(\n",
    "    transformers=[\n",
    "        ('num', numeric_transformer, numerical_cols),\n",
    "        ('cat', categorical_transformer, categorical_cols)\n",
    "    ])"
   ],
   "id": "b04585b357b1e59a",
   "outputs": [],
   "execution_count": 18
  },
  {
   "metadata": {
    "ExecuteTime": {
     "end_time": "2025-05-09T09:15:46.133494Z",
     "start_time": "2025-05-09T09:15:46.129021Z"
    }
   },
   "cell_type": "code",
   "source": [
    "# 9. Try three models\n",
    "models = {\n",
    "    # \"Linear Regression\": LinearRegression(),\n",
    "    \"Logistic Regression\": LogisticRegression(max_iter=1000),\n",
    "    \"RandomForest\": RandomForestClassifier(random_state=42), # It creates multiple decision trees and merges them together to improve the accuracy\n",
    "    \"SVM\": SVC() # default is kernel='rbf'\n",
    "}"
   ],
   "id": "dd21b35a18221b4e",
   "outputs": [],
   "execution_count": 19
  },
  {
   "metadata": {
    "ExecuteTime": {
     "end_time": "2025-05-09T09:15:46.143915Z",
     "start_time": "2025-05-09T09:15:46.133494Z"
    }
   },
   "cell_type": "code",
   "source": "X_train, X_test, y_train, y_test = train_test_split(X, y, test_size=0.2, random_state=42) # Test size means that 20% of data will go to testing rest for trening",
   "id": "a06b589a3e0a69a3",
   "outputs": [],
   "execution_count": 20
  },
  {
   "metadata": {
    "ExecuteTime": {
     "end_time": "2025-05-09T09:15:48.664846Z",
     "start_time": "2025-05-09T09:15:46.144504Z"
    }
   },
   "cell_type": "code",
   "source": [
    "for model_name, model in models.items():\n",
    "    clf = Pipeline(steps=[\n",
    "        ('preprocessor', preprocessor),\n",
    "        ('classifier', model)\n",
    "    ])\n",
    "    \n",
    "    # Train the model\n",
    "    clf.fit(X_train, y_train)\n",
    "    # Predict on the test data\n",
    "    y_pred = clf.predict(X_test)\n",
    "    \n",
    "    print(f\"Accuracy of {model_name}: {accuracy_score(y_test, y_pred)}\")\n",
    "    print(f\"Classification Report for {model_name}:\\n\", classification_report(y_test, y_pred))\n",
    "    \n",
    "    # Feature names\n",
    "    cat_features = clf.named_steps['preprocessor'].named_transformers_['cat']['onehot'].get_feature_names_out(categorical_cols)\n",
    "    all_features = np.concatenate([numerical_cols, cat_features])\n",
    "    \n",
    "    # Feature importance or coefficients\n",
    "    if model_name == \"RandomForest\":\n",
    "        importances = clf.named_steps['classifier'].feature_importances_\n",
    "        feature_importance = pd.Series(importances, index=all_features).sort_values(ascending=False)\n",
    "        title = \"Random Forest - Feature Importance\"\n",
    "        \n",
    "    elif model_name == \"Logistic Regression\":\n",
    "        coefs = clf.named_steps['classifier'].coef_[0]\n",
    "        feature_importance = pd.Series(coefs, index=all_features).sort_values(key=abs, ascending=False)\n",
    "        title = \"Logistic Regression - Feature Coefficients\"\n",
    "        \n",
    "    else:\n",
    "        feature_importance = None  # SVM with RBF kernel – no coefficients\n",
    "\n",
    "    # Plot if applicable\n",
    "    if feature_importance is not None:\n",
    "        plt.figure(figsize=(10, 8))\n",
    "        feature_importance.head(10).plot(kind='barh')\n",
    "        plt.xlabel(\"Coefficient / Importance\")\n",
    "        plt.title(f\"Top 10 Features - {title}\")\n",
    "        plt.gca().invert_yaxis()\n",
    "        plt.tight_layout()\n",
    "        plt.show()\n",
    "    \n",
    "    print(\"-\" * 55)\n"
   ],
   "id": "7547865bdc8254d",
   "outputs": [
    {
     "name": "stdout",
     "output_type": "stream",
     "text": [
      "Accuracy of Logistic Regression: 0.9104683195592287\n",
      "Classification Report for Logistic Regression:\n",
      "               precision    recall  f1-score   support\n",
      "\n",
      "           0       0.92      0.84      0.88       277\n",
      "           1       0.91      0.95      0.93       449\n",
      "\n",
      "    accuracy                           0.91       726\n",
      "   macro avg       0.91      0.90      0.90       726\n",
      "weighted avg       0.91      0.91      0.91       726\n",
      "\n"
     ]
    },
    {
     "data": {
      "text/plain": [
       "<Figure size 1000x800 with 1 Axes>"
      ],
      "image/png": "[encoded data removed]"
     },
     "metadata": {},
     "output_type": "display_data"
    },
    {
     "name": "stdout",
     "output_type": "stream",
     "text": [
      "-------------------------------------------------------\n",
      "Accuracy of RandomForest: 0.8980716253443526\n",
      "Classification Report for RandomForest:\n",
      "               precision    recall  f1-score   support\n",
      "\n",
      "           0       0.92      0.81      0.86       277\n",
      "           1       0.89      0.96      0.92       449\n",
      "\n",
      "    accuracy                           0.90       726\n",
      "   macro avg       0.90      0.88      0.89       726\n",
      "weighted avg       0.90      0.90      0.90       726\n",
      "\n"
     ]
    },
    {
     "data": {
      "text/plain": [
       "<Figure size 1000x800 with 1 Axes>"
      ],
      "image/png": "[encoded data removed]"
     },
     "metadata": {},
     "output_type": "display_data"
    },
    {
     "name": "stdout",
     "output_type": "stream",
     "text": [
      "-------------------------------------------------------\n",
      "Accuracy of SVM: 0.8953168044077136\n",
      "Classification Report for SVM:\n",
      "               precision    recall  f1-score   support\n",
      "\n",
      "           0       0.92      0.79      0.85       277\n",
      "           1       0.88      0.96      0.92       449\n",
      "\n",
      "    accuracy                           0.90       726\n",
      "   macro avg       0.90      0.88      0.89       726\n",
      "weighted avg       0.90      0.90      0.89       726\n",
      "\n",
      "-------------------------------------------------------\n"
     ]
    }
   ],
   "execution_count": 21
  },
  {
   "metadata": {
    "ExecuteTime": {
     "end_time": "2025-05-09T09:15:48.685519Z",
     "start_time": "2025-05-09T09:15:48.664846Z"
    }
   },
   "cell_type": "code",
   "source": [
    "# Regression linear\n",
    "X_np = X_train[numerical_cols].to_numpy()\n",
    "y_np = y_train.to_numpy().reshape(-1, 1)\n",
    "\n",
    "# Adding bias - col of 1\n",
    "X_b = np.hstack([np.ones((X_np.shape[0], 1)), X_np])\n",
    "\n",
    "# Closed formula: θ = (X^T X)^(-1) X^T y\n",
    "theta = np.linalg.inv(X_b.T @ X_b) @ X_b.T @ y_np\n",
    "\n",
    "y_pred = X_b @ theta\n",
    "\n",
    "# Mse formula\n",
    "mse = np.mean((y_pred - y_np) ** 2)\n",
    "\n",
    "# R^2 formula \n",
    "ss_total = np.sum((y_np - np.mean(y_np)) ** 2)\n",
    "ss_residual = np.sum((y_np - y_pred) ** 2)\n",
    "r2 = 1 - (ss_residual / ss_total)"
   ],
   "id": "adcbdd1c9592b4f8",
   "outputs": [],
   "execution_count": 22
  },
  {
   "metadata": {
    "ExecuteTime": {
     "end_time": "2025-05-09T09:15:48.691016Z",
     "start_time": "2025-05-09T09:15:48.685519Z"
    }
   },
   "cell_type": "code",
   "source": [
    "print(f\"MSE (closed form): {mse:.4f}\")\n",
    "print(f\"R^2: {r2:.4f}\")"
   ],
   "id": "37933475a5aa6e3b",
   "outputs": [
    {
     "name": "stdout",
     "output_type": "stream",
     "text": [
      "MSE (closed form): 0.0913\n",
      "R^2: 0.6176\n"
     ]
    }
   ],
   "execution_count": 23
  },
  {
   "metadata": {
    "ExecuteTime": {
     "end_time": "2025-05-09T09:15:48.696983Z",
     "start_time": "2025-05-09T09:15:48.691016Z"
    }
   },
   "cell_type": "code",
   "source": [
    "def sigmoid(z):\n",
    "    return 1 / (1 + np.exp(-z))"
   ],
   "id": "bf8b3d6bc82c6735",
   "outputs": [],
   "execution_count": 24
  },
  {
   "metadata": {
    "ExecuteTime": {
     "end_time": "2025-05-09T09:15:48.704068Z",
     "start_time": "2025-05-09T09:15:48.698994Z"
    }
   },
   "cell_type": "code",
   "source": [
    "def logistic_regression_gd(X, y, lr=0.1, epochs=1000): # epochs - liczba iteracji , lr - krok w minimalizacji kosztów\n",
    "    m, n = X.shape # m - liczba obserwacji, n - liczba zmiennych wejściowych\n",
    "    X = np.hstack([np.ones((m, 1)), X])  # Adding bias\n",
    "    theta = np.zeros((n + 1, 1)) # wektor parametrów\n",
    "\n",
    "    for _ in range(epochs):  # Powtarzamy proces aktualizacji theta przez epochs razy\n",
    "        z = X @ theta # regresja liniowa\n",
    "        predictions = sigmoid(z) # przekształcenie \n",
    "        error = predictions - y # obliczanie błędu \n",
    "        gradient = (1 / m) * X.T @ error # Obliczamy gradient funkcji kosztu CE\n",
    "        theta -= lr * gradient # Uczymy model poprzez przesuwanie theta w stronę minimum funkcji kosztu.\n",
    "\n",
    "    return theta"
   ],
   "id": "e5416d7553ac5ce8",
   "outputs": [],
   "execution_count": 25
  },
  {
   "metadata": {
    "ExecuteTime": {
     "end_time": "2025-05-09T09:15:48.850634Z",
     "start_time": "2025-05-09T09:15:48.704068Z"
    }
   },
   "cell_type": "code",
   "source": [
    "# Trening modelu\n",
    "theta = logistic_regression_gd(X_np, y_np)\n",
    "\n",
    "# Predykcja i ewaluacja\n",
    "X_test_np = X_test[numerical_cols].to_numpy()\n",
    "X_test_np = np.hstack([np.ones((X_test_np.shape[0], 1)), X_test_np])\n",
    "y_test_np = y_test.to_numpy().reshape(-1, 1)\n",
    "\n",
    "y_prob = sigmoid(X_test_np @ theta)\n",
    "y_pred = (y_prob >= 0.5).astype(int)\n",
    "\n",
    "print(\"Accuracy (logistic regression GD):\", accuracy_score(y_test_np, y_pred))\n",
    "print(\"Classification report:\\n\", classification_report(y_test_np, y_pred))"
   ],
   "id": "9314fbdfabc9ecaf",
   "outputs": [
    {
     "name": "stdout",
     "output_type": "stream",
     "text": [
      "Accuracy (logistic regression GD): 0.8347107438016529\n",
      "Classification report:\n",
      "               precision    recall  f1-score   support\n",
      "\n",
      "           0       0.97      0.58      0.73       277\n",
      "           1       0.79      0.99      0.88       449\n",
      "\n",
      "    accuracy                           0.83       726\n",
      "   macro avg       0.88      0.79      0.81       726\n",
      "weighted avg       0.86      0.83      0.82       726\n",
      "\n"
     ]
    }
   ],
   "execution_count": 26
  },
  {
   "metadata": {
    "ExecuteTime": {
     "end_time": "2025-05-09T09:15:56.577787Z",
     "start_time": "2025-05-09T09:15:48.850634Z"
    }
   },
   "cell_type": "code",
   "source": [
    "import torch\n",
    "from torch import nn\n",
    "from torch.utils.data import DataLoader, TensorDataset\n",
    "import sys\n",
    "print(\"Python executable:\", sys.executable)\n",
    "print(\"CUDA available:\", torch.cuda.is_available())\n",
    "print(\"CUDA version:\", torch.version.cuda)\n",
    "print(\"Torch version:\", torch.__version__)\n",
    "print(\"Device name:\", torch.cuda.get_device_name(0) if torch.cuda.is_available() else \"No GPU\")"
   ],
   "id": "88915f5303ad7d54",
   "outputs": [
    {
     "name": "stdout",
     "output_type": "stream",
     "text": [
      "Python executable: C:\\Users\\kobla\\anaconda3\\envs\\msid\\python.exe\n",
      "CUDA available: True\n",
      "CUDA version: 12.1\n",
      "Torch version: 2.5.1\n",
      "Device name: NVIDIA GeForce RTX 3060 Laptop GPU\n"
     ]
    }
   ],
   "execution_count": 27
  },
  {
   "metadata": {
    "ExecuteTime": {
     "end_time": "2025-05-09T09:15:56.618747Z",
     "start_time": "2025-05-09T09:15:56.579797Z"
    }
   },
   "cell_type": "code",
   "source": [
    "X_tensor = torch.tensor(X_train[numerical_cols].to_numpy(), dtype=torch.float32)\n",
    "y_tensor = torch.tensor(y_train.to_numpy(), dtype=torch.float32).view(-1, 1) \n",
    "\n",
    "dataset = TensorDataset(X_tensor, y_tensor)\n",
    "train_loader = DataLoader(dataset, batch_size=32, shuffle=True)"
   ],
   "id": "5094c9d8eb4f556d",
   "outputs": [],
   "execution_count": 28
  },
  {
   "metadata": {
    "ExecuteTime": {
     "end_time": "2025-05-09T09:15:56.626558Z",
     "start_time": "2025-05-09T09:15:56.621568Z"
    }
   },
   "cell_type": "code",
   "source": [
    "class LogisticRegressionModel(nn.Module):\n",
    "    def __init__(self):\n",
    "        super(LogisticRegressionModel, self).__init__()\n",
    "        self.linear = nn.Linear(X_tensor.shape[1], 1)  \n",
    "\n",
    "    def forward(self, x):\n",
    "        return torch.sigmoid(self.linear(x))\n"
   ],
   "id": "af5bca306a8f48cd",
   "outputs": [],
   "execution_count": 29
  },
  {
   "metadata": {
    "ExecuteTime": {
     "end_time": "2025-05-09T09:16:13.740521Z",
     "start_time": "2025-05-09T09:15:56.627382Z"
    }
   },
   "cell_type": "code",
   "source": [
    "def train_model_on_device(device_name):\n",
    "    device = torch.device(device_name)\n",
    "    model = LogisticRegressionModel().to(device)\n",
    "    optimizer = torch.optim.SGD(model.parameters(), lr=0.01)\n",
    "    criterion = torch.nn.BCELoss()\n",
    "\n",
    "    start_time = time.time()\n",
    "\n",
    "    for epoch in range(100):\n",
    "        for inputs, labels in train_loader:\n",
    "            inputs, labels = inputs.to(device), labels.to(device)\n",
    "            outputs = model(inputs)\n",
    "            loss = criterion(outputs, labels)\n",
    "            optimizer.zero_grad()\n",
    "            loss.backward()\n",
    "            optimizer.step()\n",
    "\n",
    "    end_time = time.time()\n",
    "    print(f\"Training on {device_name} took {end_time - start_time:.2f} seconds\\n\")\n",
    "\n",
    "# Trening na CPU\n",
    "train_model_on_device(\"cpu\")\n",
    "\n",
    "# Trening na GPU (jeśli dostępny)\n",
    "if torch.cuda.is_available():\n",
    "    train_model_on_device(\"cuda\")\n",
    "else:\n",
    "    print(\"GPU not available.\")"
   ],
   "id": "ce8cdf3ba775f5a5",
   "outputs": [
    {
     "name": "stdout",
     "output_type": "stream",
     "text": [
      "Training on cpu took 3.87 seconds\n",
      "\n",
      "Training on cuda took 10.53 seconds\n",
      "\n"
     ]
    }
   ],
   "execution_count": 30
  },
  {
   "metadata": {
    "jupyter": {
     "is_executing": true
    }
   },
   "cell_type": "code",
   "source": "",
   "id": "7a774e2d7b08d9e9",
   "outputs": [],
   "execution_count": null
  }
 ],
 "metadata": {
  "kernelspec": {
   "display_name": "Python 3 (ipykernel)",
   "language": "python",
   "name": "python3"
  },
  "language_info": {
   "codemirror_mode": {
    "name": "ipython",
    "version": 3
   },
   "file_extension": ".py",
   "mimetype": "text/x-python",
   "name": "python",
   "nbconvert_exporter": "python",
   "pygments_lexer": "ipython3",
   "version": "3.13.2"
  }
 },
 "nbformat": 4,
 "nbformat_minor": 5
}
